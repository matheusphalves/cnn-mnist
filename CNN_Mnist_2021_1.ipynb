{
  "nbformat": 4,
  "nbformat_minor": 0,
  "metadata": {
    "colab": {
      "name": "Atividade - Redes Neurais 2021.1.ipynb",
      "provenance": [],
      "collapsed_sections": [
        "WB83fVghwZwD",
        "jZgvAmZ7wlfo"
      ]
    },
    "kernelspec": {
      "name": "python3",
      "display_name": "Python 3"
    },
    "language_info": {
      "name": "python"
    },
    "accelerator": "GPU"
  },
  "cells": [
    {
      "cell_type": "markdown",
      "source": [
        "## **Atividade - Redes Neurais**\n",
        "\n",
        "Construção de Rede Neural Convolucional para reconhecimento de dígitos dispostos em linguagem natural\n",
        "\n",
        "Escola Politécnica da Universidade de Pernambuco - UPE/POLI\n",
        "\n",
        "**Disciplina: Redes Neurais / 2021.1**\n",
        "\n",
        "**Equipe**\n",
        "- Matheus Phelipe (mpap@ecomp.poli.br)\n",
        "- Murilo Stoldoni (mcs2@ecomp.poli.br)\n",
        "- Nilton Vieira (nvs@ecomp.poli.br)\n",
        "- Richard Jeremias (rjmr@ecomp.poli.br)"
      ],
      "metadata": {
        "id": "kmODr4cdumgp"
      }
    },
    {
      "cell_type": "code",
      "source": [
        ""
      ],
      "metadata": {
        "id": "y4f9cn741kEB"
      },
      "execution_count": null,
      "outputs": []
    },
    {
      "cell_type": "markdown",
      "source": [
        "Definições básicas\n",
        "\n",
        "Objetivos\n",
        "\n",
        "✅ 1) Número de camadas convolucionais e filtros ( pelo menos 4 variações)\n",
        "\n",
        "✅ 2) Dropout - 4 valores\n",
        "\n",
        "✅ 3) Testar diferentes algoritmos de otimização - SGD, RMSprop e Adam (pelo menos 3)\n",
        "\n",
        "✅ 4) Variar o número de épocas ( mínimo de 3)\n",
        "\n",
        "✅ 5) Variar a taxa de aprendizagem ( mínimo de 3)\n",
        "\n",
        "✅ 6) Incrementar o tamanho do batch ( mínimo de 3)\n"
      ],
      "metadata": {
        "id": "uZRUBqB8xnma"
      }
    },
    {
      "cell_type": "markdown",
      "source": [
        "### **Import inicial** \n"
      ],
      "metadata": {
        "id": "DTG9r0UxvoEz"
      }
    },
    {
      "cell_type": "code",
      "execution_count": null,
      "metadata": {
        "id": "Nr_XGcKXuaDU",
        "colab": {
          "base_uri": "https://localhost:8080/"
        },
        "outputId": "4b599263-b3b1-44b5-caf8-5f3bf30dfc9c"
      },
      "outputs": [
        {
          "output_type": "stream",
          "name": "stderr",
          "text": [
            "DEBUG:matplotlib.pyplot:Loaded backend module://ipykernel.pylab.backend_inline version unknown.\n"
          ]
        }
      ],
      "source": [
        "import numpy as np\n",
        "import tensorflow as tf\n",
        "from tensorflow import keras\n",
        "\n",
        "from matplotlib import pyplot as plt \n",
        "%matplotlib inline\n",
        "\n",
        "from keras import backend\n",
        "backend.set_image_data_format('channels_first')\n",
        "\n",
        "seed = 7\n",
        "np.random.seed(seed)"
      ]
    },
    {
      "cell_type": "code",
      "source": [
        "import logging\n",
        "log = logging.getLogger()\n",
        "log.setLevel(logging.DEBUG)"
      ],
      "metadata": {
        "id": "mwH59CBC-WT3"
      },
      "execution_count": null,
      "outputs": []
    },
    {
      "cell_type": "markdown",
      "source": [
        "### **Fase 01: Import da base de dados** \n"
      ],
      "metadata": {
        "id": "WB83fVghwZwD"
      }
    },
    {
      "cell_type": "code",
      "source": [
        "from keras.datasets import mnist\n",
        "[xTrain, yTrain], [xTest, yTest] = mnist.load_data()\n",
        "logging.info(f'Base de dados carregada.')"
      ],
      "metadata": {
        "colab": {
          "base_uri": "https://localhost:8080/"
        },
        "id": "qhkHm9MSwkzo",
        "outputId": "c09af10b-2b6f-4cff-e720-090e60a4cf9c"
      },
      "execution_count": null,
      "outputs": [
        {
          "output_type": "stream",
          "name": "stderr",
          "text": [
            "INFO:root:Base de dados carregada.\n"
          ]
        }
      ]
    },
    {
      "cell_type": "markdown",
      "source": [
        "### **Fase 02: Transformação dos dados** \n"
      ],
      "metadata": {
        "id": "jZgvAmZ7wlfo"
      }
    },
    {
      "cell_type": "code",
      "source": [
        "from keras.utils import np_utils\n",
        "#Conjunto de treino deve se adequar as dimensões da imagem\n",
        "def reshapeInput(InputSet ,isGrayCh = 1, width = 28, heigh = 28):\n",
        "  #0 -> treino, 1 -> teste\n",
        "  InputSet[0] = InputSet[0].reshape(InputSet[0].shape[0], isGrayCh, width, heigh).astype('float32')\n",
        "  InputSet[1] = InputSet[1].reshape(InputSet[1].shape[0], isGrayCh, width, heigh).astype('float32')\n",
        "  logging.info(f'Redimensionando matriz de entrada (qtde de amostras, canal, largura, altura)\\n Treino: {InputSet[0].shape}\\n Teste: {InputSet[1].shape}')\n",
        "  return (InputSet[0], InputSet[1])\n",
        "\n",
        "def setMaxOutputRange(outputSet, range = 255):\n",
        "  #0 -> treino, 1 -> teste\n",
        "  outputSet[0] = outputSet[0] / range\n",
        "  outputSet[1] = outputSet[1] / range\n",
        "  logging.info(f'Valores de saída foram delimitados pelo limiar de {range}.')\n",
        "  return (outputSet[0], outputSet[1])\n",
        "\n",
        "def convertToMultiClassMatrix(outputSet):\n",
        "  #0 -> treino, 1 -> teste\n",
        "  outputSet[0] = np_utils.to_categorical(outputSet[0])\n",
        "  outputSet[1] = np_utils.to_categorical(outputSet[1])\n",
        "  logging.info(f'Vetor de rótulos convertido para matriz com valores categóricos.')\n",
        "  return (outputSet[0], outputSet[1])\n",
        "\n",
        "[xTrain, xTest] = reshapeInput([xTrain, xTest])\n",
        "[xTrain, xTest] = setMaxOutputRange([xTrain, xTest])\n",
        "[yTrain, yTest] = convertToMultiClassMatrix([yTrain, yTest])"
      ],
      "metadata": {
        "colab": {
          "base_uri": "https://localhost:8080/"
        },
        "id": "gzcvL84eyA18",
        "outputId": "d35510dd-78eb-4046-dda4-13224d9b9ba6"
      },
      "execution_count": null,
      "outputs": [
        {
          "output_type": "stream",
          "name": "stderr",
          "text": [
            "INFO:root:Redimensionando matriz de entrada (qtde de amostras, canal, largura, altura)\n",
            " Treino: (60000, 1, 28, 28)\n",
            " Teste: (10000, 1, 28, 28)\n",
            "INFO:root:Valores de saída foram delimitados pelo limiar de 255.\n",
            "INFO:root:Vetor de rótulos convertido para matriz com valores categóricos.\n"
          ]
        }
      ]
    },
    {
      "cell_type": "markdown",
      "source": [
        "**Definição da quantidade de rótulos**"
      ],
      "metadata": {
        "id": "Kx0FkkRMLrwS"
      }
    },
    {
      "cell_type": "code",
      "source": [
        "labelsAmount = yTest.shape[1]\n",
        "logging.info(f'Quantidade de classes a serem processadas: {labelsAmount}.')"
      ],
      "metadata": {
        "colab": {
          "base_uri": "https://localhost:8080/"
        },
        "id": "iM4yTjZ2LsCa",
        "outputId": "c5b4c105-1b11-4d82-e615-28cce8d38a0f"
      },
      "execution_count": null,
      "outputs": [
        {
          "output_type": "stream",
          "name": "stderr",
          "text": [
            "INFO:root:Quantidade de classes a serem processadas: 10.\n"
          ]
        }
      ]
    },
    {
      "cell_type": "markdown",
      "source": [
        "### **Fase 03: Construção do modelo** \n"
      ],
      "metadata": {
        "id": "lyRZvTYMyBZT"
      }
    },
    {
      "cell_type": "code",
      "source": [
        "from keras.models import Sequential\n",
        "from keras.layers.convolutional import Conv2D, MaxPooling2D, AveragePooling2D\n",
        "from keras.layers import Dense, Dropout, Flatten"
      ],
      "metadata": {
        "id": "aHdh1066SRCe"
      },
      "execution_count": null,
      "outputs": []
    },
    {
      "cell_type": "markdown",
      "source": [
        "Classe `CNNBuilder` permite criar arquitetura de rede com camadas personalizadas."
      ],
      "metadata": {
        "id": "0gGIea2sSUUf"
      }
    },
    {
      "cell_type": "code",
      "source": [
        "class CNNBuilder():\n",
        "\n",
        "  def __init__(self, modelName = 'Sequential'):\n",
        "    self.model = Sequential(name = modelName)\n",
        "\n",
        "  def getModelInstance(self):\n",
        "    return self.model\n",
        "\n",
        "  #Adição de camada convolucional\n",
        "  def addConv2DLayer(self, featureMaps = 30, kernelSize = [5, 5], \n",
        "               dataShape = [1, 28, 28], activationFun = 'relu'):\n",
        "    self.model.add(Conv2D(featureMaps, kernel_size= kernelSize, input_shape = dataShape, activation= activationFun)) #Número de feature maps \n",
        "\n",
        "  #Adição de camada Pooling\n",
        "  def addMaxPooling2DLayer(self, poolingSize = [2,2]):\n",
        "    self.model.add(MaxPooling2D(pool_size= poolingSize))\n",
        "\n",
        "  #Adição de camada Pooling\n",
        "  def addAvgPooling2DLayer(self, poolingSize = [2,2]):\n",
        "    \n",
        "    self.model.add(AveragePooling2D(pool_size= poolingSize[0]))\n",
        "\n",
        "  #Adição de camada drop out, evitar overfitting\n",
        "  def addDropoutLayer(self, dropOutRate = 0.2):\n",
        "    self.model.add(Dropout(dropOutRate))\n",
        "    \n",
        "  #Flatten das features\n",
        "  def addFlattenLayer(self):\n",
        "    self.model.add(Flatten())\n",
        "\n",
        "  #Adição de camadas densamente conectadas\n",
        "  def addDenseLayer(self, neuronsAmount = 16, activation= 'softmax', name = 'Predict'):\n",
        "    self.model.add(Dense(neuronsAmount, activation= 'softmax', name = 'Predict'))\n",
        "  \n",
        "  def addMultipleDenseLayers(self, neuronsAmount = 128, labelsAmount = 10, layers = 3, activationFun = 'relu'): \n",
        "    if(layers <= 0):\n",
        "      logging.error('Quantidade de camadas inválida')\n",
        "      return None\n",
        "\n",
        "    for i in range(0, layers):\n",
        "      self.model.add(Dense(neuronsAmount, activationFun))\n",
        "      neuronsAmount = neuronsAmount / 2\n",
        "    self.addDenseLayer(neuronsAmount = labelsAmount) #ultima camada\n",
        "\n",
        "  def compileModel(self, lossFun = 'categorical_crossentropy', optimizer='adam', metrics=['accuracy']):\n",
        "    self.model.compile(loss= lossFun, optimizer= optimizer, metrics= metrics)\n"
      ],
      "metadata": {
        "id": "ZnRiVazcSav2"
      },
      "execution_count": null,
      "outputs": []
    },
    {
      "cell_type": "markdown",
      "source": [
        "**Modelos CNN personalizados**"
      ],
      "metadata": {
        "id": "uMkeADHgS3WF"
      }
    },
    {
      "cell_type": "code",
      "source": [
        "def model1():\n",
        "  cnnModel = CNNBuilder('Modelo_01')\n",
        "  cnnModel.addConv2DLayer(featureMaps = 40) #se n passar nd, serão usados valores default\n",
        "  cnnModel.addMaxPooling2DLayer()\n",
        "  cnnModel.addDropoutLayer()\n",
        "  cnnModel.addFlattenLayer()\n",
        "  cnnModel.addMultipleDenseLayers()\n",
        "  opt = keras.optimizers.Adam(learning_rate=0.015)\n",
        "  cnnModel.compileModel(optimizer= opt)\n",
        "  logging.info(f'Definida taxa de aprendizado de: {round(opt.learning_rate.numpy()*100,2)}%')\n",
        "  return cnnModel.model\n",
        "\n",
        "model1 = model1()\n",
        "model1.summary()"
      ],
      "metadata": {
        "id": "V49zAau4S1d_",
        "colab": {
          "base_uri": "https://localhost:8080/"
        },
        "outputId": "3b9dcbe6-9cf8-4cac-cc6d-670f392f0135"
      },
      "execution_count": null,
      "outputs": [
        {
          "output_type": "stream",
          "name": "stderr",
          "text": [
            "INFO:root:Definida taxa de aprendizado de: 1.5%\n"
          ]
        },
        {
          "output_type": "stream",
          "name": "stdout",
          "text": [
            "Model: \"Modelo_01\"\n",
            "_________________________________________________________________\n",
            " Layer (type)                Output Shape              Param #   \n",
            "=================================================================\n",
            " conv2d_32 (Conv2D)          (None, 40, 24, 24)        1040      \n",
            "                                                                 \n",
            " max_pooling2d_8 (MaxPooling  (None, 40, 12, 12)       0         \n",
            " 2D)                                                             \n",
            "                                                                 \n",
            " dropout_11 (Dropout)        (None, 40, 12, 12)        0         \n",
            "                                                                 \n",
            " flatten_11 (Flatten)        (None, 5760)              0         \n",
            "                                                                 \n",
            " dense_33 (Dense)            (None, 128)               737408    \n",
            "                                                                 \n",
            " dense_34 (Dense)            (None, 64)                8256      \n",
            "                                                                 \n",
            " dense_35 (Dense)            (None, 32)                2080      \n",
            "                                                                 \n",
            " Predict (Dense)             (None, 10)                330       \n",
            "                                                                 \n",
            "=================================================================\n",
            "Total params: 749,114\n",
            "Trainable params: 749,114\n",
            "Non-trainable params: 0\n",
            "_________________________________________________________________\n"
          ]
        }
      ]
    },
    {
      "cell_type": "code",
      "source": [
        "def model2(): #O que nilton fez fica assim\n",
        "  cnnModel = CNNBuilder('Modelo_02')#vc pode nomear o modelo se quiser\n",
        "  cnnModel.addConv2DLayer(featureMaps = 120, kernelSize= [5, 5]) #se n passar nd, serão usados valores default\n",
        "  cnnModel.addAvgPooling2DLayer(poolingSize= [3,3])\n",
        "  cnnModel.addConv2DLayer(featureMaps=40, kernelSize= [4,4])\n",
        "  cnnModel.addMaxPooling2DLayer(poolingSize= [2,2])\n",
        "  cnnModel.addDropoutLayer(dropOutRate=0.25)\n",
        "  cnnModel.addFlattenLayer()\n",
        "  cnnModel.addMultipleDenseLayers(neuronsAmount=128, layers = 3, activationFun= 'relu')\n",
        "  opt = keras.optimizers.SGD(learning_rate=0.02)\n",
        "  cnnModel.compileModel(optimizer=opt)\n",
        "  logging.info(f'Definida taxa de aprendizado de: {round(opt.learning_rate.numpy()*100,2)}%')\n",
        "  return cnnModel.model\n",
        "\n",
        "model2 = model2()\n",
        "model2.summary()"
      ],
      "metadata": {
        "colab": {
          "base_uri": "https://localhost:8080/"
        },
        "id": "OigpGCx31F4O",
        "outputId": "44ac4b1a-a5bd-420d-9bdd-dba21603782e"
      },
      "execution_count": null,
      "outputs": [
        {
          "output_type": "stream",
          "name": "stderr",
          "text": [
            "INFO:root:Definida taxa de aprendizado de: 2.0%\n"
          ]
        },
        {
          "output_type": "stream",
          "name": "stdout",
          "text": [
            "Model: \"Modelo_02\"\n",
            "_________________________________________________________________\n",
            " Layer (type)                Output Shape              Param #   \n",
            "=================================================================\n",
            " conv2d_42 (Conv2D)          (None, 120, 24, 24)       3120      \n",
            "                                                                 \n",
            " average_pooling2d_16 (Avera  (None, 120, 8, 8)        0         \n",
            " gePooling2D)                                                    \n",
            "                                                                 \n",
            " conv2d_43 (Conv2D)          (None, 40, 5, 5)          76840     \n",
            "                                                                 \n",
            " max_pooling2d_11 (MaxPoolin  (None, 40, 2, 2)         0         \n",
            " g2D)                                                            \n",
            "                                                                 \n",
            " dropout_15 (Dropout)        (None, 40, 2, 2)          0         \n",
            "                                                                 \n",
            " flatten_15 (Flatten)        (None, 160)               0         \n",
            "                                                                 \n",
            " dense_45 (Dense)            (None, 128)               20608     \n",
            "                                                                 \n",
            " dense_46 (Dense)            (None, 64)                8256      \n",
            "                                                                 \n",
            " dense_47 (Dense)            (None, 32)                2080      \n",
            "                                                                 \n",
            " Predict (Dense)             (None, 10)                330       \n",
            "                                                                 \n",
            "=================================================================\n",
            "Total params: 111,234\n",
            "Trainable params: 111,234\n",
            "Non-trainable params: 0\n",
            "_________________________________________________________________\n"
          ]
        }
      ]
    },
    {
      "cell_type": "code",
      "source": [
        "def model3():\n",
        "  cnnModel = CNNBuilder('Modelo_03')\n",
        "  cnnModel.addConv2DLayer(featureMaps = 25, kernelSize= [5, 5], activationFun= 'selu')\n",
        "  cnnModel.addConv2DLayer(featureMaps = 25, kernelSize= [4, 4], activationFun= 'elu')\n",
        "  cnnModel.addConv2DLayer(featureMaps = 25, kernelSize= [3, 3], activationFun= 'relu')\n",
        "  cnnModel.addAvgPooling2DLayer(poolingSize= [2,2])\n",
        "  cnnModel.addDropoutLayer(dropOutRate=0.15)\n",
        "  cnnModel.addFlattenLayer()\n",
        "  cnnModel.addMultipleDenseLayers(neuronsAmount=144, layers = 3, activationFun= 'sigmoid')\n",
        "  opt = keras.optimizers.RMSprop(learning_rate=0.001)\n",
        "  cnnModel.compileModel(lossFun= 'categorical_crossentropy', optimizer=opt)\n",
        "  logging.info(f'Definida taxa de aprendizado de: {round(opt.learning_rate.numpy()*100,2)}%')\n",
        "  return cnnModel.model\n",
        "\n",
        "model3 = model3()\n",
        "model3.summary()"
      ],
      "metadata": {
        "colab": {
          "base_uri": "https://localhost:8080/"
        },
        "id": "Qc7Bcmh_3TTI",
        "outputId": "ed5c7366-d943-414c-decf-1c5a4f337f1c"
      },
      "execution_count": null,
      "outputs": [
        {
          "output_type": "stream",
          "name": "stderr",
          "text": [
            "INFO:root:Definida taxa de aprendizado de: 0.1%\n"
          ]
        },
        {
          "output_type": "stream",
          "name": "stdout",
          "text": [
            "Model: \"Modelo_03\"\n",
            "_________________________________________________________________\n",
            " Layer (type)                Output Shape              Param #   \n",
            "=================================================================\n",
            " conv2d_35 (Conv2D)          (None, 25, 24, 24)        650       \n",
            "                                                                 \n",
            " conv2d_36 (Conv2D)          (None, 25, 21, 21)        10025     \n",
            "                                                                 \n",
            " conv2d_37 (Conv2D)          (None, 25, 19, 19)        5650      \n",
            "                                                                 \n",
            " average_pooling2d_15 (Avera  (None, 25, 9, 9)         0         \n",
            " gePooling2D)                                                    \n",
            "                                                                 \n",
            " dropout_13 (Dropout)        (None, 25, 9, 9)          0         \n",
            "                                                                 \n",
            " flatten_13 (Flatten)        (None, 2025)              0         \n",
            "                                                                 \n",
            " dense_39 (Dense)            (None, 144)               291744    \n",
            "                                                                 \n",
            " dense_40 (Dense)            (None, 72)                10440     \n",
            "                                                                 \n",
            " dense_41 (Dense)            (None, 36)                2628      \n",
            "                                                                 \n",
            " Predict (Dense)             (None, 10)                370       \n",
            "                                                                 \n",
            "=================================================================\n",
            "Total params: 321,507\n",
            "Trainable params: 321,507\n",
            "Non-trainable params: 0\n",
            "_________________________________________________________________\n"
          ]
        }
      ]
    },
    {
      "cell_type": "code",
      "source": [
        "def model4():\n",
        "  cnnModel = CNNBuilder('Modelo_04')\n",
        "  cnnModel.addConv2DLayer(featureMaps = 30, kernelSize= [5, 5], activationFun= 'elu')\n",
        "  cnnModel.addConv2DLayer(featureMaps = 30, kernelSize= [5, 5], activationFun= 'selu')\n",
        "  cnnModel.addConv2DLayer(featureMaps = 30, kernelSize= [4, 4], activationFun= 'selu')\n",
        "  cnnModel.addConv2DLayer(featureMaps = 30, kernelSize= [4, 4], activationFun= 'elu')\n",
        "  cnnModel.addMaxPooling2DLayer(poolingSize= [2,2])\n",
        "  cnnModel.addDropoutLayer(dropOutRate=0.1)\n",
        "  cnnModel.addFlattenLayer()\n",
        "  cnnModel.addMultipleDenseLayers(neuronsAmount=156, layers = 3, activationFun= 'relu')\n",
        "  opt = keras.optimizers.Adam(learning_rate=0.0015)\n",
        "  cnnModel.compileModel(lossFun= 'binary_crossentropy', optimizer= opt)\n",
        "  logging.info(f'Definida taxa de aprendizado de: {round(opt.learning_rate.numpy()*100,2)}%')\n",
        "  return cnnModel.model\n",
        "\n",
        "model4 = model4()\n",
        "model4.summary()"
      ],
      "metadata": {
        "id": "MW21FehrAJ5n",
        "colab": {
          "base_uri": "https://localhost:8080/"
        },
        "outputId": "37907172-e738-44f5-d2f0-b0391b400be3"
      },
      "execution_count": null,
      "outputs": [
        {
          "output_type": "stream",
          "name": "stderr",
          "text": [
            "INFO:root:Definida taxa de aprendizado de: 0.15%\n"
          ]
        },
        {
          "output_type": "stream",
          "name": "stdout",
          "text": [
            "Model: \"Modelo_04\"\n",
            "_________________________________________________________________\n",
            " Layer (type)                Output Shape              Param #   \n",
            "=================================================================\n",
            " conv2d_38 (Conv2D)          (None, 30, 24, 24)        780       \n",
            "                                                                 \n",
            " conv2d_39 (Conv2D)          (None, 30, 20, 20)        22530     \n",
            "                                                                 \n",
            " conv2d_40 (Conv2D)          (None, 30, 17, 17)        14430     \n",
            "                                                                 \n",
            " conv2d_41 (Conv2D)          (None, 30, 14, 14)        14430     \n",
            "                                                                 \n",
            " max_pooling2d_10 (MaxPoolin  (None, 30, 7, 7)         0         \n",
            " g2D)                                                            \n",
            "                                                                 \n",
            " dropout_14 (Dropout)        (None, 30, 7, 7)          0         \n",
            "                                                                 \n",
            " flatten_14 (Flatten)        (None, 1470)              0         \n",
            "                                                                 \n",
            " dense_42 (Dense)            (None, 156)               229476    \n",
            "                                                                 \n",
            " dense_43 (Dense)            (None, 78)                12246     \n",
            "                                                                 \n",
            " dense_44 (Dense)            (None, 39)                3081      \n",
            "                                                                 \n",
            " Predict (Dense)             (None, 10)                400       \n",
            "                                                                 \n",
            "=================================================================\n",
            "Total params: 297,373\n",
            "Trainable params: 297,373\n",
            "Non-trainable params: 0\n",
            "_________________________________________________________________\n"
          ]
        }
      ]
    },
    {
      "cell_type": "markdown",
      "source": [
        "### **Fase 04: Treinamento dos modelos** \n"
      ],
      "metadata": {
        "id": "JLNhSrqTyHxv"
      }
    },
    {
      "cell_type": "code",
      "source": [
        "logging.info('Treinamento do modelo 01')\n",
        "model1.fit(xTrain, yTrain, validation_data= [xTest, yTest], epochs= 10, batch_size= 200)"
      ],
      "metadata": {
        "id": "wE_3AqupyIGQ",
        "colab": {
          "base_uri": "https://localhost:8080/"
        },
        "outputId": "28ca3eb4-2fec-4b0f-b8db-53b98edb0764"
      },
      "execution_count": null,
      "outputs": [
        {
          "output_type": "stream",
          "name": "stderr",
          "text": [
            "INFO:root:Treinamento do modelo 01\n"
          ]
        },
        {
          "output_type": "stream",
          "name": "stdout",
          "text": [
            "Epoch 1/10\n",
            "300/300 [==============================] - 4s 10ms/step - loss: 0.2965 - accuracy: 0.9021 - val_loss: 0.0899 - val_accuracy: 0.9724\n",
            "Epoch 2/10\n",
            "300/300 [==============================] - 3s 10ms/step - loss: 0.0983 - accuracy: 0.9712 - val_loss: 0.0742 - val_accuracy: 0.9792\n",
            "Epoch 3/10\n",
            "300/300 [==============================] - 3s 10ms/step - loss: 0.0825 - accuracy: 0.9763 - val_loss: 0.0728 - val_accuracy: 0.9787\n",
            "Epoch 4/10\n",
            "300/300 [==============================] - 3s 10ms/step - loss: 0.0699 - accuracy: 0.9803 - val_loss: 0.0596 - val_accuracy: 0.9822\n",
            "Epoch 5/10\n",
            "300/300 [==============================] - 3s 10ms/step - loss: 0.0629 - accuracy: 0.9823 - val_loss: 0.0754 - val_accuracy: 0.9811\n",
            "Epoch 6/10\n",
            "300/300 [==============================] - 3s 10ms/step - loss: 0.0604 - accuracy: 0.9838 - val_loss: 0.0798 - val_accuracy: 0.9798\n",
            "Epoch 7/10\n",
            "300/300 [==============================] - 3s 10ms/step - loss: 0.0599 - accuracy: 0.9842 - val_loss: 0.0665 - val_accuracy: 0.9826\n",
            "Epoch 8/10\n",
            "300/300 [==============================] - 3s 9ms/step - loss: 0.0586 - accuracy: 0.9848 - val_loss: 0.0660 - val_accuracy: 0.9829\n",
            "Epoch 9/10\n",
            "300/300 [==============================] - 3s 9ms/step - loss: 0.0557 - accuracy: 0.9851 - val_loss: 0.0672 - val_accuracy: 0.9845\n",
            "Epoch 10/10\n",
            "300/300 [==============================] - 3s 9ms/step - loss: 0.0518 - accuracy: 0.9869 - val_loss: 0.0830 - val_accuracy: 0.9819\n"
          ]
        },
        {
          "output_type": "execute_result",
          "data": {
            "text/plain": [
              "<keras.callbacks.History at 0x7fd9176aa590>"
            ]
          },
          "metadata": {},
          "execution_count": 56
        }
      ]
    },
    {
      "cell_type": "code",
      "source": [
        "logging.info('Treinamento do modelo 02')\n",
        "model2.fit(xTrain, yTrain, validation_data= [xTest, yTest], epochs= 7, batch_size= 75)"
      ],
      "metadata": {
        "id": "cA5W00BxAgMe",
        "colab": {
          "base_uri": "https://localhost:8080/"
        },
        "outputId": "aa6c942d-19bb-410c-d889-b5ea336e9fd6"
      },
      "execution_count": null,
      "outputs": [
        {
          "output_type": "stream",
          "name": "stderr",
          "text": [
            "INFO:root:Treinamento do modelo 02\n"
          ]
        },
        {
          "output_type": "stream",
          "name": "stdout",
          "text": [
            "Epoch 1/7\n",
            "800/800 [==============================] - 8s 10ms/step - loss: 1.5047 - accuracy: 0.4936 - val_loss: 0.3470 - val_accuracy: 0.8963\n",
            "Epoch 2/7\n",
            "800/800 [==============================] - 8s 9ms/step - loss: 0.3506 - accuracy: 0.8914 - val_loss: 0.1896 - val_accuracy: 0.9429\n",
            "Epoch 3/7\n",
            "800/800 [==============================] - 8s 9ms/step - loss: 0.2402 - accuracy: 0.9251 - val_loss: 0.1384 - val_accuracy: 0.9574\n",
            "Epoch 4/7\n",
            "800/800 [==============================] - 8s 9ms/step - loss: 0.1974 - accuracy: 0.9385 - val_loss: 0.1162 - val_accuracy: 0.9633\n",
            "Epoch 5/7\n",
            "800/800 [==============================] - 8s 9ms/step - loss: 0.1734 - accuracy: 0.9461 - val_loss: 0.1025 - val_accuracy: 0.9696\n",
            "Epoch 6/7\n",
            "800/800 [==============================] - 8s 9ms/step - loss: 0.1527 - accuracy: 0.9535 - val_loss: 0.0907 - val_accuracy: 0.9733\n",
            "Epoch 7/7\n",
            "800/800 [==============================] - 8s 9ms/step - loss: 0.1411 - accuracy: 0.9563 - val_loss: 0.0826 - val_accuracy: 0.9735\n"
          ]
        },
        {
          "output_type": "execute_result",
          "data": {
            "text/plain": [
              "<keras.callbacks.History at 0x7fd912262b50>"
            ]
          },
          "metadata": {},
          "execution_count": 59
        }
      ]
    },
    {
      "cell_type": "code",
      "source": [
        "logging.info('Treinamento do modelo 03')\n",
        "model3.fit(xTrain, yTrain, validation_data= [xTest, yTest], epochs= 5, batch_size= 150)"
      ],
      "metadata": {
        "id": "lJfUeUsJAgAv",
        "colab": {
          "base_uri": "https://localhost:8080/"
        },
        "outputId": "ccf3079c-6594-4969-e17a-68e0996b3e08"
      },
      "execution_count": null,
      "outputs": [
        {
          "output_type": "stream",
          "name": "stderr",
          "text": [
            "INFO:root:Treinamento do modelo 03\n"
          ]
        },
        {
          "output_type": "stream",
          "name": "stdout",
          "text": [
            "Epoch 1/5\n",
            "400/400 [==============================] - 9s 20ms/step - loss: 0.7383 - accuracy: 0.8755 - val_loss: 0.1209 - val_accuracy: 0.9778\n",
            "Epoch 2/5\n",
            "400/400 [==============================] - 7s 18ms/step - loss: 0.0922 - accuracy: 0.9775 - val_loss: 0.0662 - val_accuracy: 0.9812\n",
            "Epoch 3/5\n",
            "400/400 [==============================] - 7s 18ms/step - loss: 0.0582 - accuracy: 0.9844 - val_loss: 0.0423 - val_accuracy: 0.9886\n",
            "Epoch 4/5\n",
            "400/400 [==============================] - 7s 18ms/step - loss: 0.0440 - accuracy: 0.9878 - val_loss: 0.0379 - val_accuracy: 0.9890\n",
            "Epoch 5/5\n",
            "400/400 [==============================] - 7s 18ms/step - loss: 0.0370 - accuracy: 0.9895 - val_loss: 0.0359 - val_accuracy: 0.9885\n"
          ]
        },
        {
          "output_type": "execute_result",
          "data": {
            "text/plain": [
              "<keras.callbacks.History at 0x7fd9120a4c90>"
            ]
          },
          "metadata": {},
          "execution_count": 60
        }
      ]
    },
    {
      "cell_type": "code",
      "source": [
        "logging.info('Treinamento do modelo 04')\n",
        "model4.fit(xTrain, yTrain, validation_data= [xTest, yTest], epochs= 4, batch_size= 50)"
      ],
      "metadata": {
        "id": "fdAeY9nZAfx2",
        "colab": {
          "base_uri": "https://localhost:8080/"
        },
        "outputId": "07f77bbd-afdf-463a-94be-7aeb5b50bfee"
      },
      "execution_count": null,
      "outputs": [
        {
          "output_type": "stream",
          "name": "stderr",
          "text": [
            "INFO:root:Treinamento do modelo 04\n"
          ]
        },
        {
          "output_type": "stream",
          "name": "stdout",
          "text": [
            "Epoch 1/4\n",
            "1200/1200 [==============================] - 14s 11ms/step - loss: 0.0331 - accuracy: 0.9479 - val_loss: 0.0128 - val_accuracy: 0.9796\n",
            "Epoch 2/4\n",
            "1200/1200 [==============================] - 12s 10ms/step - loss: 0.0129 - accuracy: 0.9800 - val_loss: 0.0135 - val_accuracy: 0.9797\n",
            "Epoch 3/4\n",
            "1200/1200 [==============================] - 12s 10ms/step - loss: 0.0108 - accuracy: 0.9835 - val_loss: 0.0097 - val_accuracy: 0.9848\n",
            "Epoch 4/4\n",
            "1200/1200 [==============================] - 12s 10ms/step - loss: 0.0089 - accuracy: 0.9868 - val_loss: 0.0092 - val_accuracy: 0.9868\n"
          ]
        },
        {
          "output_type": "execute_result",
          "data": {
            "text/plain": [
              "<keras.callbacks.History at 0x7fd991514910>"
            ]
          },
          "metadata": {},
          "execution_count": 61
        }
      ]
    },
    {
      "cell_type": "markdown",
      "source": [
        "### **Fase 05: Status do modelo treinado** \n"
      ],
      "metadata": {
        "id": "ZKYYmb9XyRUx"
      }
    },
    {
      "cell_type": "code",
      "source": [
        "def evaluateModel(model, xTest, yTest, verbose = 0):\n",
        "  scores = model.evaluate(xTest, yTest, verbose= 0)\n",
        "  logging.info(f'Accuracy estimated (model {model.name}): {round(scores[1]*100, 2)}%')\n",
        "  return scores"
      ],
      "metadata": {
        "id": "lNxxhhPyySb7"
      },
      "execution_count": null,
      "outputs": []
    },
    {
      "cell_type": "code",
      "source": [
        "evaluateModel(model1, xTest, yTest)\n",
        "evaluateModel(model2, xTest, yTest)\n",
        "evaluateModel(model3, xTest, yTest)\n",
        "evaluateModel(model4, xTest, yTest)"
      ],
      "metadata": {
        "colab": {
          "base_uri": "https://localhost:8080/"
        },
        "id": "O1MNNjWn6V2B",
        "outputId": "52b0b1e1-d45a-4e6a-abf5-12402032c553"
      },
      "execution_count": null,
      "outputs": [
        {
          "output_type": "stream",
          "name": "stderr",
          "text": [
            "INFO:root:Accuracy estimated (model Modelo_01): 98.19%\n",
            "INFO:root:Accuracy estimated (model Modelo_02): 97.35%\n",
            "INFO:root:Accuracy estimated (model Modelo_03): 98.85%\n",
            "INFO:root:Accuracy estimated (model Modelo_04): 98.68%\n"
          ]
        },
        {
          "output_type": "execute_result",
          "data": {
            "text/plain": [
              "[0.009209604933857918, 0.9868000149726868]"
            ]
          },
          "metadata": {},
          "execution_count": 63
        }
      ]
    }
  ]
}